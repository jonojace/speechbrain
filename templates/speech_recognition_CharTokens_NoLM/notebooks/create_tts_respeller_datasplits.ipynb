{
 "cells": [
  {
   "cell_type": "markdown",
   "id": "c7dd2539-d72b-4b76-a466-46a2d95fdbca",
   "metadata": {
    "pycharm": {
     "name": "#%% md\n"
    }
   },
   "source": [
    "# select utts to do various things based on a corpus\n",
    "\n",
    "50% fastpitch\n",
    "* 90% train\n",
    "* 10% dev \n",
    "\n",
    "50% respeller\n",
    "* 80% train\n",
    "* 10% dev\n",
    "* 10% test\n",
    "    \n",
    "The utterances used to train fastpitch should have more prototypical english spellings\n",
    "\n",
    "Method 1:\n",
    "* Add utts to respeller corpus that have words that have freq of 1\n",
    "* then 2\n",
    "* then 3... \n",
    "* Until we form 50% of the total number of graphemes\n",
    "\n",
    "Method 2:\n",
    "* use G2P model + phoneme dict\n",
    "\n",
    "Method 3:\n",
    "* use avg perplexity to rank words/utts from pretrained grapheme based LM"
   ]
  },
  {
   "cell_type": "code",
   "execution_count": 109,
   "id": "dfd9cef1-7b78-4d57-ac97-e04e0f3613d3",
   "metadata": {
    "pycharm": {
     "name": "#%%\n"
    }
   },
   "outputs": [],
   "source": [
    "import string\n",
    "from collections import Counter\n",
    "import random\n",
    "import os\n",
    "import pandas as pd\n",
    "import matplotlib.pyplot as plt\n",
    "import unidecode"
   ]
  },
  {
   "cell_type": "code",
   "execution_count": 110,
   "id": "66d6b97e-dd7c-4982-b581-0e28902f9efa",
   "metadata": {
    "pycharm": {
     "name": "#%%\n"
    }
   },
   "outputs": [],
   "source": [
    "# NOTE - randomisation only applies to choosing train dev test splits \n",
    "# does not apply to how we choose to split data between tts vs. respeller \n",
    "# this process should be deterministic for reproducibility\n",
    "random.seed(1337) "
   ]
  },
  {
   "cell_type": "code",
   "execution_count": 111,
   "id": "8f4df003-b9d6-477b-9507-16ec2cb34ed0",
   "metadata": {
    "pycharm": {
     "name": "#%%\n"
    }
   },
   "outputs": [],
   "source": [
    "# load text data\n",
    "with open('/home/s1785140/data/ljspeech_fastpitch/wav_text_filelist.txt') as f:\n",
    "    lines = f.readlines()"
   ]
  },
  {
   "cell_type": "code",
   "execution_count": 112,
   "id": "b716830c-efc2-47eb-a5ef-817f3832f0cc",
   "metadata": {
    "pycharm": {
     "name": "#%%\n"
    }
   },
   "outputs": [],
   "source": [
    "def only_alphabet(s):\n",
    "    \"\"\"remove diacritics then only keep alphabet chars\"\"\"\n",
    "    s = unidecode.unidecode(s)\n",
    "    \n",
    "    rv = []\n",
    "    for c in s:\n",
    "        if c in string.ascii_lowercase + ' ':\n",
    "            rv.append(c)\n",
    "    return ''.join(rv)\n",
    "\n",
    "def replace(s1, c1, c2):\n",
    "    s2 = []\n",
    "    for c in s1:\n",
    "        if c == c1:\n",
    "            s2.append(c2)\n",
    "        else:\n",
    "            s2.append(c)\n",
    "    return ''.join(s2)        \n",
    "\n",
    "def tokenise(s):\n",
    "    s = s.strip()\n",
    "    # replace hyphen with space to treat word as two separate words rather than one word\n",
    "    # remove all other punc so we can analyse just the word tokens\n",
    "    s = s.lower()\n",
    "    \n",
    "    # remove hyphen at end of word\n",
    "    if s.endswith('-'):\n",
    "        s = s[:-1]\n",
    "        \n",
    "    s = replace(s, '-', ' ')\n",
    "        \n",
    "    s = only_alphabet(s)\n",
    "    return s.split(' ')\n",
    "\n",
    "uttid2rawtext = {}\n",
    "for l in lines:\n",
    "    utt_id = l.split('.wav')[0].split('/')[-1]\n",
    "    text = l.split('|')[-1].rstrip('\\n')\n",
    "    uttid2rawtext[utt_id] = text\n",
    "\n",
    "# build up word counter\n",
    "def get_word_freq(uttids, uttid2rawtext):\n",
    "    # get wordfreq for the words in the utts according to uttids\n",
    "    uttid2words = {}\n",
    "    word_freq = Counter()\n",
    "    for utt_id in uttids:  \n",
    "        text = uttid2rawtext[utt_id]\n",
    "        words = set(tokenise(text)) # remove duplicates\n",
    "        uttid2words[utt_id] = words\n",
    "        for word in words:\n",
    "            word_freq[word] += 1\n",
    "    return word_freq, uttid2words\n",
    "\n",
    "word_freq, uttid2words = get_word_freq(uttid2rawtext.keys(), uttid2rawtext)"
   ]
  },
  {
   "cell_type": "code",
   "execution_count": 113,
   "id": "960d7184-43af-4295-8155-d957bc08337a",
   "metadata": {
    "tags": [],
    "pycharm": {
     "name": "#%%\n"
    }
   },
   "outputs": [
    {
     "data": {
      "text/plain": [
       "[('the', 9641),\n",
       " ('of', 6379),\n",
       " ('and', 5384),\n",
       " ('to', 5037),\n",
       " ('in', 4099),\n",
       " ('a', 3600),\n",
       " ('was', 3311),\n",
       " ('that', 2611),\n",
       " ('he', 2136),\n",
       " ('his', 1693)]"
      ]
     },
     "execution_count": 113,
     "metadata": {},
     "output_type": "execute_result"
    }
   ],
   "source": [
    "# most common\n",
    "word_freq.most_common(10)"
   ]
  },
  {
   "cell_type": "code",
   "execution_count": 114,
   "id": "e90d2c94-6db4-42e2-954b-f9f6014b3ae1",
   "metadata": {
    "pycharm": {
     "name": "#%%\n"
    }
   },
   "outputs": [
    {
     "data": {
      "text/plain": [
       "[('differs', 1),\n",
       " ('chinese', 1),\n",
       " ('woodcutters', 1),\n",
       " ('netherlands', 1),\n",
       " ('letterpress', 1),\n",
       " ('productions', 1),\n",
       " ('craftsmen', 1),\n",
       " ('shapeliness', 1),\n",
       " ('calligraphy', 1),\n",
       " ('perfection', 1)]"
      ]
     },
     "execution_count": 114,
     "metadata": {},
     "output_type": "execute_result"
    }
   ],
   "source": [
    "# least common\n",
    "# sorted_ascending = sorted(word_freq.items(), key=lambda x: (x[1], x[0]))\n",
    "sorted_ascending = sorted(word_freq.items(), key=lambda x: x[1])\n",
    "sorted_ascending[:10]"
   ]
  },
  {
   "cell_type": "code",
   "execution_count": 115,
   "id": "f1ca785e-062e-47b9-b3e4-57eb0b5c3d37",
   "metadata": {
    "pycharm": {
     "name": "#%%\n"
    }
   },
   "outputs": [],
   "source": [
    "def utts_with_word(uttid2words, word):\n",
    "    # find the utt ids that contain a word\n",
    "    uttids = []\n",
    "    for uttid, words in uttid2words.items():\n",
    "        if word in words:\n",
    "            uttids.append(uttid)\n",
    "    return uttids"
   ]
  },
  {
   "cell_type": "markdown",
   "id": "e8c354ca-c585-4392-a798-0794494c527d",
   "metadata": {
    "pycharm": {
     "name": "#%% md\n"
    }
   },
   "source": [
    "# create respeller+TTS datasplits"
   ]
  },
  {
   "cell_type": "code",
   "execution_count": 116,
   "id": "3bc33d9d-1f3a-4dbd-8e10-c0bbc6bcc0a8",
   "metadata": {
    "pycharm": {
     "name": "#%%\n"
    }
   },
   "outputs": [],
   "source": [
    "# respeller utterances\n",
    "TOTAL_UTTS = 13100\n",
    "assert TOTAL_UTTS == len(lines)\n",
    "\n",
    "# what proportion of corpus is assigned to respeller (rest is assigned to tts training/eval)\n",
    "respeller_corpus_ratio = 0.5\n",
    "respeller_corpus_N = int(TOTAL_UTTS*respeller_corpus_ratio)\n",
    "\n",
    "# add utts to respeller corpus \n",
    "# (also keep track of the lowfreq_word it contains)\n",
    "respeller_utt_to_lowfreq_word = dict()\n",
    "for word, freq in sorted_ascending:\n",
    "    utt_ids = utts_with_word(uttid2words, word)\n",
    "    for utt_id in utt_ids:\n",
    "        respeller_utt_to_lowfreq_word[utt_id] = (word, freq)\n",
    "        del uttid2words[utt_id] # remove this utt from candidate list    \n",
    "        \n",
    "    if len(respeller_utt_to_lowfreq_word) > respeller_corpus_N:\n",
    "        break # have enough utts for respeller"
   ]
  },
  {
   "cell_type": "code",
   "execution_count": 117,
   "id": "842252c6-657f-4db5-9735-c326c69d24b1",
   "metadata": {
    "pycharm": {
     "name": "#%%\n"
    }
   },
   "outputs": [
    {
     "data": {
      "text/plain": [
       "6551"
      ]
     },
     "execution_count": 117,
     "metadata": {},
     "output_type": "execute_result"
    }
   ],
   "source": [
    "len(respeller_utt_to_lowfreq_word.keys())"
   ]
  },
  {
   "cell_type": "code",
   "execution_count": 118,
   "id": "7c68d9be-7b98-497e-9e68-fabb318e1e92",
   "metadata": {
    "pycharm": {
     "name": "#%%\n"
    }
   },
   "outputs": [
    {
     "data": {
      "text/plain": [
       "6549"
      ]
     },
     "execution_count": 118,
     "metadata": {},
     "output_type": "execute_result"
    }
   ],
   "source": [
    "len(uttid2words.keys())"
   ]
  },
  {
   "cell_type": "code",
   "execution_count": 119,
   "id": "029bb5f6-7c5d-49ce-b3ed-254151818bbf",
   "metadata": {
    "pycharm": {
     "name": "#%%\n"
    }
   },
   "outputs": [],
   "source": [
    "assert TOTAL_UTTS == len(respeller_utt_to_lowfreq_word.keys()) + len(uttid2words.keys())"
   ]
  },
  {
   "cell_type": "markdown",
   "id": "0fe29489-4d14-4e5f-9ee1-2fd70b418e82",
   "metadata": {
    "pycharm": {
     "name": "#%% md\n"
    }
   },
   "source": [
    "## get datasplits"
   ]
  },
  {
   "cell_type": "markdown",
   "id": "165bf8f4-737a-484f-9fea-08c43c1e414b",
   "metadata": {
    "pycharm": {
     "name": "#%% md\n"
    }
   },
   "source": [
    "### random"
   ]
  },
  {
   "cell_type": "code",
   "execution_count": 120,
   "id": "7763422a-47c9-46cc-964b-4dfa569601ba",
   "metadata": {
    "tags": [],
    "pycharm": {
     "name": "#%%\n"
    }
   },
   "outputs": [],
   "source": [
    "# Create train dev test splits\n",
    "def get_random_datasplits(\n",
    "    utt_ids, \n",
    "    ratios,  # [train, dev, test]\n",
    "):\n",
    "    random.shuffle(utt_ids)\n",
    "    N = len(utt_ids)\n",
    "    assert sum(ratios) == 1\n",
    "    train_ratio, dev_ratio, test_ratio = ratios \n",
    "    train = utt_ids[:int(train_ratio*N)]\n",
    "    if test_ratio != 0.0:\n",
    "        dev = utt_ids[int(train_ratio*N):int(train_ratio*N)+int(dev_ratio*N)]\n",
    "        test = utt_ids[int(train_ratio*N)+int(dev_ratio*N):]\n",
    "    else:\n",
    "        dev = utt_ids[int(train_ratio*N):]\n",
    "        test = []\n",
    "    assert N == len(train) + len(dev) + len(test), f\"{N} == {len(train)} + {len(dev)} + {len(test)}\"\n",
    "    print(f\"{N} == {len(train)}(train) + {len(dev)}(dev) + {len(test)}(test)\")\n",
    "    return train, dev, test"
   ]
  },
  {
   "cell_type": "code",
   "execution_count": 121,
   "id": "10742008-c4f8-4bbe-bc6d-98d39b8740cf",
   "metadata": {
    "pycharm": {
     "name": "#%%\n"
    }
   },
   "outputs": [],
   "source": [
    "# write utt ids to disk\n",
    "\n",
    "def write_utt_ids(uttids, outdir, outfile):\n",
    "    uttids.sort()\n",
    "    lines = []\n",
    "    for uttid in uttids:\n",
    "        line = f'{uttid}\\n'\n",
    "        lines.append(line)\n",
    "    with open(os.path.join(outdir, outfile), 'w') as f:\n",
    "        f.writelines(lines)\n",
    "\n",
    "outdir = '/home/s1785140/data/ljspeech_fastpitch'\n",
    "outfile = 'respeller_uttids.txt'\n",
    "respeller_utt_ids = list(respeller_utt_to_lowfreq_word.keys())\n",
    "write_utt_ids(respeller_utt_ids, outdir, outfile)"
   ]
  },
  {
   "cell_type": "code",
   "execution_count": 122,
   "id": "258e32b6-e16f-44b1-a136-a699af924c96",
   "metadata": {
    "tags": [],
    "pycharm": {
     "name": "#%%\n"
    }
   },
   "outputs": [
    {
     "name": "stdout",
     "output_type": "stream",
     "text": [
      "6551 == 5240(train) + 655(dev) + 656(test)\n"
     ]
    }
   ],
   "source": [
    "train, dev, test = get_random_datasplits(respeller_utt_ids, [0.8, 0.1, 0.1])"
   ]
  },
  {
   "cell_type": "code",
   "execution_count": 123,
   "id": "1e11c8d7-60de-475b-afb7-5d10fd8cd7a8",
   "metadata": {
    "pycharm": {
     "name": "#%%\n"
    }
   },
   "outputs": [
    {
     "name": "stdout",
     "output_type": "stream",
     "text": [
      "6549 == 6385(train) + 164(dev) + 0(test)\n"
     ]
    }
   ],
   "source": [
    "# [train, dev, test]\n",
    "tts_utt_ids = list(uttid2words.keys())\n",
    "train, dev, test = get_random_datasplits(tts_utt_ids, [0.975, 0.025, 0.0])"
   ]
  },
  {
   "cell_type": "code",
   "execution_count": 124,
   "id": "d5bd5ec6-1f92-4822-8462-d1f593977678",
   "metadata": {
    "pycharm": {
     "name": "#%%\n"
    }
   },
   "outputs": [],
   "source": [
    "# write files to disk for training fastpitch\n",
    "def write_fastpitch_meta_file(uttids, outdir, outfile):\n",
    "    uttids.sort()\n",
    "    lines = []\n",
    "    for uttid in uttids:\n",
    "        line = f'mels/{uttid}.pt|durations/{uttid}.pt|pitches/{uttid}.pt|{uttid2rawtext[uttid]}\\n'\n",
    "        lines.append(line)\n",
    "    with open(os.path.join(outdir, outfile), 'w') as f:\n",
    "        f.writelines(lines)"
   ]
  },
  {
   "cell_type": "code",
   "execution_count": 125,
   "id": "f23709a0-9a73-461a-a74c-536022ec4fa1",
   "metadata": {
    "pycharm": {
     "name": "#%%\n"
    }
   },
   "outputs": [],
   "source": [
    "outdir = '/home/s1785140/data/ljspeech_fastpitch'\n",
    "outfile = 'train_meta_half.txt'\n",
    "write_fastpitch_meta_file(train, outdir, outfile)\n",
    "\n",
    "outdir = '/home/s1785140/data/ljspeech_fastpitch'\n",
    "outfile = 'val_meta_half.txt'\n",
    "write_fastpitch_meta_file(dev, outdir, outfile)"
   ]
  },
  {
   "cell_type": "markdown",
   "id": "32af221e-7b96-429b-b27b-8af59a1341ca",
   "metadata": {
    "pycharm": {
     "name": "#%% md\n"
    }
   },
   "source": [
    "# print metrics for a set of utt ids"
   ]
  },
  {
   "cell_type": "code",
   "execution_count": 126,
   "id": "8c955963-eeb1-4d9f-a08d-7823db73343c",
   "metadata": {
    "pycharm": {
     "name": "#%%\n"
    }
   },
   "outputs": [
    {
     "data": {
      "text/html": [
       "<div>\n",
       "<style scoped>\n",
       "    .dataframe tbody tr th:only-of-type {\n",
       "        vertical-align: middle;\n",
       "    }\n",
       "\n",
       "    .dataframe tbody tr th {\n",
       "        vertical-align: top;\n",
       "    }\n",
       "\n",
       "    .dataframe thead th {\n",
       "        text-align: right;\n",
       "    }\n",
       "</style>\n",
       "<table border=\"1\" class=\"dataframe\">\n",
       "  <thead>\n",
       "    <tr style=\"text-align: right;\">\n",
       "      <th></th>\n",
       "      <th>words</th>\n",
       "      <th>count</th>\n",
       "    </tr>\n",
       "  </thead>\n",
       "  <tbody>\n",
       "    <tr>\n",
       "      <th>0</th>\n",
       "      <td>the</td>\n",
       "      <td>4966</td>\n",
       "    </tr>\n",
       "    <tr>\n",
       "      <th>1</th>\n",
       "      <td>of</td>\n",
       "      <td>3471</td>\n",
       "    </tr>\n",
       "    <tr>\n",
       "      <th>2</th>\n",
       "      <td>and</td>\n",
       "      <td>3152</td>\n",
       "    </tr>\n",
       "    <tr>\n",
       "      <th>3</th>\n",
       "      <td>to</td>\n",
       "      <td>2593</td>\n",
       "    </tr>\n",
       "    <tr>\n",
       "      <th>4</th>\n",
       "      <td>in</td>\n",
       "      <td>2125</td>\n",
       "    </tr>\n",
       "  </tbody>\n",
       "</table>\n",
       "</div>"
      ],
      "text/plain": [
       "  words  count\n",
       "0   the   4966\n",
       "1    of   3471\n",
       "2   and   3152\n",
       "3    to   2593\n",
       "4    in   2125"
      ]
     },
     "execution_count": 126,
     "metadata": {},
     "output_type": "execute_result"
    }
   ],
   "source": [
    "# plot word freq\n",
    "respeller_word_freq, uttid2words = get_word_freq(respeller_utt_ids, uttid2rawtext)\n",
    "tts_word_freq, uttid2words = get_word_freq(tts_utt_ids, uttid2rawtext)\n",
    "\n",
    "# df\n",
    "respeller_df = pd.DataFrame(respeller_word_freq.most_common(), columns=['words', 'count'])\n",
    "respeller_df.head()"
   ]
  },
  {
   "cell_type": "code",
   "execution_count": 127,
   "id": "a2bbffea-5fc6-4b5c-be65-041db38ae308",
   "metadata": {
    "pycharm": {
     "name": "#%%\n"
    }
   },
   "outputs": [
    {
     "data": {
      "image/png": "[encoded data removed]",
      "text/plain": [
       "<Figure size 1200x800 with 1 Axes>"
      ]
     },
     "metadata": {},
     "output_type": "display_data"
    }
   ],
   "source": [
    "fig, ax = plt.subplots(figsize=(12, 8))\n",
    "\n",
    "# Plot line graph \n",
    "# (settings @ https://pandas.pydata.org/pandas-docs/version/0.22/generated/pandas.DataFrame.plot.html)\n",
    "respeller_df.sort_values(by='count').plot.line(\n",
    "    # x='words', # sets word on the X-Axis.\n",
    "    use_index=True, # sets the DataFrame Index on the X-Axis.\n",
    "    y='count',\n",
    "    ax=ax,\n",
    "    color=\"brown\",\n",
    "    logy=True,\n",
    "    grid=True,\n",
    "    title='respeller datasplit word freq rank vs. log freq',\n",
    "    xlabel='word freq rank',\n",
    "    ylabel='log freq'\n",
    ")\n",
    "plt.show()"
   ]
  },
  {
   "cell_type": "code",
   "execution_count": 128,
   "id": "32c139f7-84b6-41da-8479-6b0458494e66",
   "metadata": {
    "tags": [],
    "pycharm": {
     "name": "#%%\n"
    }
   },
   "outputs": [],
   "source": [
    "# PER for g2p\n",
    "# avg over corpus\n",
    "# avg over utt\n",
    "# avg over word\n",
    "\n",
    "# plot whether phone error rate correlates with corpus frequency for word"
   ]
  },
  {
   "cell_type": "markdown",
   "id": "203b3aee-e585-41c2-90c9-4c1ff19bbb66",
   "metadata": {
    "pycharm": {
     "name": "#%% md\n"
    }
   },
   "source": [
    "# compare two sets of utt ids"
   ]
  },
  {
   "cell_type": "code",
   "execution_count": 129,
   "id": "bd389bf2-b3d7-4355-9b78-ec4b995269d6",
   "metadata": {
    "tags": [],
    "pycharm": {
     "name": "#%%\n"
    }
   },
   "outputs": [
    {
     "name": "stdout",
     "output_type": "stream",
     "text": [
      "original LJ speech corpus has 14000 wordtypes\n",
      "tts corpus has 5657 wordtypes\n",
      "respeller corpus has 13811 wordtypes\n",
      "there are 8343 words that are in respeller corpus but not in tts\n"
     ]
    }
   ],
   "source": [
    "# how many words in respellers data but not in tts\n",
    "oov_counter = Counter()\n",
    "for word, count in respeller_word_freq.most_common():\n",
    "    if word not in tts_word_freq:\n",
    "        oov_counter[word] += count\n",
    "print('original LJ speech corpus has', len(word_freq), 'wordtypes')\n",
    "print('tts corpus has', len(tts_word_freq), 'wordtypes')\n",
    "print('respeller corpus has', len(respeller_word_freq), 'wordtypes')\n",
    "print('there are', len(oov_counter), 'words that are in respeller corpus but not in tts')"
   ]
  },
  {
   "cell_type": "code",
   "execution_count": 130,
   "id": "0538857d-ab74-48a3-a9b8-d50ef92b8e20",
   "metadata": {
    "pycharm": {
     "name": "#%%\n"
    }
   },
   "outputs": [],
   "source": [
    "# save OOV list to disk (useful for evaluating the respeller)\n",
    "import json\n",
    "OOV_LIST_OUTPATH = '/home/s1785140/data/ljspeech_fastpitch/oov_list.json'\n",
    "with open(OOV_LIST_OUTPATH, 'w') as f:\n",
    "    json.dump(oov_counter, f, indent=4)\n",
    "    # f.writelines(\"\\n\".join([f\"{word}\\t{count}\" for word, count in sorted(oov_counter.items())]))"
   ]
  },
  {
   "cell_type": "markdown",
   "id": "6455da1f-333b-425d-a072-8331d1b91b2d",
   "metadata": {
    "pycharm": {
     "name": "#%% md\n"
    }
   },
   "source": [
    "from https://stackoverflow.com/questions/29233283/plotting-multiple-lines-in-different-colors-with-pandas-dataframe"
   ]
  },
  {
   "cell_type": "code",
   "execution_count": 134,
   "id": "c7971e22-e39f-4cac-a9e8-73b4744a256e",
   "metadata": {
    "tags": [],
    "pycharm": {
     "name": "#%%\n"
    }
   },
   "outputs": [
    {
     "data": {
      "image/png": "[encoded data removed]",
      "text/plain": [
       "<Figure size 1000x500 with 1 Axes>"
      ]
     },
     "metadata": {},
     "output_type": "display_data"
    }
   ],
   "source": [
    "# word freqs\n",
    "# sample data\n",
    "respeller_words = [['respeller', i, count] for i, (word, count) in enumerate(respeller_word_freq.most_common())]\n",
    "tts_words = [['tts', i, count] for i, (word, count) in enumerate(tts_word_freq.most_common())]\n",
    "\n",
    "df = pd.DataFrame(\n",
    "    respeller_words + tts_words,\n",
    "    columns=['datasplit', 'x', 'count']\n",
    ")\n",
    "\n",
    "# pivot the data into the correct shape\n",
    "df = df.pivot(index='x', columns='datasplit', values='count')\n",
    "\n",
    "# display(df)\n",
    "\n",
    "# plot the pivoted dataframe; if the column names aren't colors, remove color=df.columns\n",
    "df.plot(\n",
    "    # color=df.columns, \n",
    "    figsize=(10, 5),\n",
    "    # use_index=True, # sets the DataFrame Index on the X-Axis.\n",
    "    # logx=True,\n",
    "    logy=True,\n",
    "    grid=True,\n",
    "    title='respeller datasplit word freq rank vs. log freq',\n",
    "    xlabel='word freq rank',\n",
    "    ylabel='log freq'\n",
    ")\n",
    "plt.show()"
   ]
  },
  {
   "cell_type": "code",
   "execution_count": 132,
   "id": "abf49d0a-bc75-44f2-bc74-a30a788c5385",
   "metadata": {
    "pycharm": {
     "name": "#%%\n"
    }
   },
   "outputs": [],
   "source": [
    "# overlapping words\n",
    "\n",
    "# words not overlap"
   ]
  }
 ],
 "metadata": {
  "kernelspec": {
   "display_name": "Python 3 (ipykernel)",
   "language": "python",
   "name": "python3"
  },
  "language_info": {
   "codemirror_mode": {
    "name": "ipython",
    "version": 3
   },
   "file_extension": ".py",
   "mimetype": "text/x-python",
   "name": "python",
   "nbconvert_exporter": "python",
   "pygments_lexer": "ipython3",
   "version": "3.8.13"
  }
 },
 "nbformat": 4,
 "nbformat_minor": 5
}